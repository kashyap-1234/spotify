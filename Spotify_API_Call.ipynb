{
 "cells": [
  {
   "cell_type": "code",
   "execution_count": 83,
   "id": "4780ff5c-86e3-47a8-b26a-d645367582a1",
   "metadata": {},
   "outputs": [],
   "source": [
    "import time\n",
    "import json\n",
    "import csv\n",
    "import spotipy\n",
    "from spotipy.oauth2 import SpotifyClientCredentials"
   ]
  },
  {
   "cell_type": "code",
   "execution_count": 84,
   "id": "fa4499f7-14f6-4ed3-82b8-46336878e6c0",
   "metadata": {},
   "outputs": [],
   "source": [
    "def get_audio_features(genre, offset):\n",
    "    client_credentials_manager = SpotifyClientCredentials(client_id=\"dc203630e8d74bdc9c81cae2d999ff08\", client_secret=\"965cd714d12748d8ae2cd10aef14c9c4\")\n",
    "    sp = spotipy.Spotify(client_credentials_manager=client_credentials_manager)\n",
    "    \n",
    "    playlists = sp.search(q=genre, type='playlist', limit=1)\n",
    "    if playlists['playlists']['items']:\n",
    "        playlist = playlists['playlists']['items'][0]\n",
    "        playlist_id = playlist['id']\n",
    "        playlist_tracks = sp.playlist_tracks(playlist_id, limit=100, offset=offset)\n",
    "        tracks = playlist_tracks['items']\n",
    "        audio_features = []\n",
    "        for track in tracks:\n",
    "            track_id = track['track']['id']\n",
    "            audio_feature = sp.audio_features(track_id)[0]\n",
    "            audio_features.append(audio_feature)\n",
    "        return audio_features,tracks\n",
    "        \n",
    "    else:\n",
    "        print(f\"No playlist found for the genre '{genre}'\")"
   ]
  },
  {
   "cell_type": "code",
   "execution_count": 85,
   "id": "60270f70-4912-4280-80f0-e3ad680431bf",
   "metadata": {},
   "outputs": [],
   "source": [
    "genres = ['acoustic', 'afrobeat', 'alt-rock', 'alternative', 'ambient',\n",
    "       'anime', 'black-metal', 'bluegrass', 'blues', 'brazil',\n",
    "       'breakbeat', 'british', 'cantopop', 'chicago-house', 'children',\n",
    "       'chill', 'classical', 'club', 'comedy', 'country', 'dance',\n",
    "       'dancehall', 'death-metal', 'deep-house', 'detroit-techno',\n",
    "       'disco', 'disney', 'drum-and-bass', 'dub', 'dubstep', 'edm',\n",
    "       'electro', 'electronic', 'emo', 'folk', 'forro', 'french', 'funk',\n",
    "       'garage', 'german', 'gospel', 'goth', 'grindcore', 'groove',\n",
    "       'grunge', 'guitar', 'happy', 'hard-rock', 'hardcore', 'hardstyle',\n",
    "       'heavy-metal', 'hip-hop', 'honky-tonk', 'house', 'idm', 'indian',\n",
    "       'indie-pop', 'indie', 'industrial', 'iranian', 'j-dance', 'j-idol',\n",
    "       'j-pop', 'j-rock', 'jazz', 'k-pop', 'kids', 'latin', 'latino',\n",
    "       'malay', 'mandopop', 'metal', 'metalcore', 'minimal-techno', 'mpb',\n",
    "       'new-age', 'opera', 'pagode', 'party', 'piano', 'pop-film', 'pop',\n",
    "       'power-pop', 'progressive-house', 'psych-rock', 'punk-rock',\n",
    "       'punk', 'r-n-b', 'reggae', 'reggaeton', 'rock-n-roll', 'rock',\n",
    "       'rockabilly', 'romance', 'sad', 'salsa', 'samba', 'sertanejo',\n",
    "       'show-tunes', 'singer-songwriter', 'ska', 'sleep', 'songwriter',\n",
    "       'soul', 'spanish', 'study', 'swedish', 'synth-pop', 'tango',\n",
    "       'techno', 'trance', 'trip-hop', 'turkish', 'world-music']"
   ]
  },
  {
   "cell_type": "code",
   "execution_count": 86,
   "id": "eeaa8c10-f1dd-4909-adf4-cf83cb5232f6",
   "metadata": {},
   "outputs": [],
   "source": [
    "genre = 'acoustic'\n",
    "track_features = []\n",
    "tracks_list = []\n",
    "for i in range(10):\n",
    "    audio_features_list,tracks_list_temp = get_audio_features(genre,100*i)\n",
    "    track_features = track_features+audio_features_list\n",
    "    tracks_list = tracks_list+tracks_list_temp\n",
    "    time.sleep(15)"
   ]
  },
  {
   "cell_type": "code",
   "execution_count": 87,
   "id": "67217bfc-cef7-43c1-90e2-fa21597ed6a9",
   "metadata": {},
   "outputs": [],
   "source": [
    "for i in range(len(track_features)):\n",
    "    del track_features[i]['uri']\n",
    "    del track_features[i]['track_href']\n",
    "    del track_features[i]['analysis_url']\n",
    "    del track_features[i]['id']\n",
    "    track_features[i]['track_id'] = tracks_list[i]['track']['id']\n",
    "    track_features[i]['album_name'] = tracks_list[i]['track']['album']['name']\n",
    "    track_features[i]['artists'] = tracks_list[i]['track']['artists'][0]['name']\n",
    "    track_features[i]['popularity'] = tracks_list[i]['track']['popularity']\n",
    "    track_features[i]['track_name'] = tracks_list[i]['track']['name']\n",
    "    track_features[i]['explicit'] = tracks_list[i]['track']['explicit']"
   ]
  },
  {
   "cell_type": "code",
   "execution_count": 88,
   "id": "6da2012c-d6fc-4480-9d35-d39eef2cb7a4",
   "metadata": {},
   "outputs": [],
   "source": [
    "data_file = open('genre_'+genre+'.csv','w')\n",
    "csv_writer = csv.writer(data_file)\n",
    "count = 0\n",
    " \n",
    "for track_feature in track_features:\n",
    "    if count == 0:\n",
    "        header = track_feature.keys()\n",
    "        csv_writer.writerow(header)\n",
    "        count += 1\n",
    " \n",
    "    csv_writer.writerow(track_feature.values())\n",
    " \n",
    "data_file.close()"
   ]
  }
 ],
 "metadata": {
  "kernelspec": {
   "display_name": "Python 3 (ipykernel)",
   "language": "python",
   "name": "python3"
  },
  "language_info": {
   "codemirror_mode": {
    "name": "ipython",
    "version": 3
   },
   "file_extension": ".py",
   "mimetype": "text/x-python",
   "name": "python",
   "nbconvert_exporter": "python",
   "pygments_lexer": "ipython3",
   "version": "3.11.4"
  }
 },
 "nbformat": 4,
 "nbformat_minor": 5
}
